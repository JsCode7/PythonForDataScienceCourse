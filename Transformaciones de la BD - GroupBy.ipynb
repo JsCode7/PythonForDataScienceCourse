{
 "cells": [
  {
   "cell_type": "code",
   "execution_count": 1,
   "id": "34407f0c",
   "metadata": {},
   "outputs": [],
   "source": [
    "import pandas as pd\n",
    "df = pd.read_csv(\"C:/Users/Jeste/Desktop/Data Science/base_datos_2008.csv/base_datos_2008.csv\")"
   ]
  },
  {
   "cell_type": "code",
   "execution_count": 6,
   "id": "46ecc67f",
   "metadata": {},
   "outputs": [],
   "source": [
    "df[\"HoursDelay\"] = round(df[\"ArrDelay\"] / 60)"
   ]
  },
  {
   "cell_type": "code",
   "execution_count": 3,
   "id": "c4bc128a",
   "metadata": {},
   "outputs": [
    {
     "data": {
      "text/plain": [
       "0   -0.0\n",
       "1    0.0\n",
       "2    0.0\n",
       "3   -0.0\n",
       "4    1.0\n",
       "Name: HoursDelay, dtype: float64"
      ]
     },
     "execution_count": 3,
     "metadata": {},
     "output_type": "execute_result"
    }
   ],
   "source": [
    "df[\"HoursDelay\"].head()"
   ]
  },
  {
   "cell_type": "code",
   "execution_count": 4,
   "id": "c9dcba0f",
   "metadata": {},
   "outputs": [],
   "source": [
    "del(df[\"HoursDelay\"])"
   ]
  },
  {
   "cell_type": "code",
   "execution_count": 7,
   "id": "570799f7",
   "metadata": {},
   "outputs": [
    {
     "data": {
      "text/html": [
       "<div>\n",
       "<style scoped>\n",
       "    .dataframe tbody tr th:only-of-type {\n",
       "        vertical-align: middle;\n",
       "    }\n",
       "\n",
       "    .dataframe tbody tr th {\n",
       "        vertical-align: top;\n",
       "    }\n",
       "\n",
       "    .dataframe thead th {\n",
       "        text-align: right;\n",
       "    }\n",
       "</style>\n",
       "<table border=\"1\" class=\"dataframe\">\n",
       "  <thead>\n",
       "    <tr style=\"text-align: right;\">\n",
       "      <th></th>\n",
       "      <th>Year</th>\n",
       "      <th>Month</th>\n",
       "      <th>DayofMonth</th>\n",
       "      <th>DayOfWeek</th>\n",
       "      <th>DepTime</th>\n",
       "      <th>CRSDepTime</th>\n",
       "      <th>ArrTime</th>\n",
       "      <th>CRSArrTime</th>\n",
       "      <th>UniqueCarrier</th>\n",
       "      <th>FlightNum</th>\n",
       "      <th>...</th>\n",
       "      <th>TaxiOut</th>\n",
       "      <th>Cancelled</th>\n",
       "      <th>CancellationCode</th>\n",
       "      <th>Diverted</th>\n",
       "      <th>CarrierDelay</th>\n",
       "      <th>WeatherDelay</th>\n",
       "      <th>NASDelay</th>\n",
       "      <th>SecurityDelay</th>\n",
       "      <th>LateAircraftDelay</th>\n",
       "      <th>HoursDelay</th>\n",
       "    </tr>\n",
       "  </thead>\n",
       "  <tbody>\n",
       "    <tr>\n",
       "      <th>0</th>\n",
       "      <td>2008</td>\n",
       "      <td>1</td>\n",
       "      <td>3</td>\n",
       "      <td>4</td>\n",
       "      <td>2003.0</td>\n",
       "      <td>1955</td>\n",
       "      <td>2211.0</td>\n",
       "      <td>2225</td>\n",
       "      <td>WN</td>\n",
       "      <td>335</td>\n",
       "      <td>...</td>\n",
       "      <td>8.0</td>\n",
       "      <td>0</td>\n",
       "      <td>NaN</td>\n",
       "      <td>0</td>\n",
       "      <td>NaN</td>\n",
       "      <td>NaN</td>\n",
       "      <td>NaN</td>\n",
       "      <td>NaN</td>\n",
       "      <td>NaN</td>\n",
       "      <td>-0.0</td>\n",
       "    </tr>\n",
       "    <tr>\n",
       "      <th>1</th>\n",
       "      <td>2008</td>\n",
       "      <td>1</td>\n",
       "      <td>3</td>\n",
       "      <td>4</td>\n",
       "      <td>754.0</td>\n",
       "      <td>735</td>\n",
       "      <td>1002.0</td>\n",
       "      <td>1000</td>\n",
       "      <td>WN</td>\n",
       "      <td>3231</td>\n",
       "      <td>...</td>\n",
       "      <td>10.0</td>\n",
       "      <td>0</td>\n",
       "      <td>NaN</td>\n",
       "      <td>0</td>\n",
       "      <td>NaN</td>\n",
       "      <td>NaN</td>\n",
       "      <td>NaN</td>\n",
       "      <td>NaN</td>\n",
       "      <td>NaN</td>\n",
       "      <td>0.0</td>\n",
       "    </tr>\n",
       "    <tr>\n",
       "      <th>2</th>\n",
       "      <td>2008</td>\n",
       "      <td>1</td>\n",
       "      <td>3</td>\n",
       "      <td>4</td>\n",
       "      <td>628.0</td>\n",
       "      <td>620</td>\n",
       "      <td>804.0</td>\n",
       "      <td>750</td>\n",
       "      <td>WN</td>\n",
       "      <td>448</td>\n",
       "      <td>...</td>\n",
       "      <td>17.0</td>\n",
       "      <td>0</td>\n",
       "      <td>NaN</td>\n",
       "      <td>0</td>\n",
       "      <td>NaN</td>\n",
       "      <td>NaN</td>\n",
       "      <td>NaN</td>\n",
       "      <td>NaN</td>\n",
       "      <td>NaN</td>\n",
       "      <td>0.0</td>\n",
       "    </tr>\n",
       "    <tr>\n",
       "      <th>3</th>\n",
       "      <td>2008</td>\n",
       "      <td>1</td>\n",
       "      <td>3</td>\n",
       "      <td>4</td>\n",
       "      <td>926.0</td>\n",
       "      <td>930</td>\n",
       "      <td>1054.0</td>\n",
       "      <td>1100</td>\n",
       "      <td>WN</td>\n",
       "      <td>1746</td>\n",
       "      <td>...</td>\n",
       "      <td>7.0</td>\n",
       "      <td>0</td>\n",
       "      <td>NaN</td>\n",
       "      <td>0</td>\n",
       "      <td>NaN</td>\n",
       "      <td>NaN</td>\n",
       "      <td>NaN</td>\n",
       "      <td>NaN</td>\n",
       "      <td>NaN</td>\n",
       "      <td>-0.0</td>\n",
       "    </tr>\n",
       "    <tr>\n",
       "      <th>4</th>\n",
       "      <td>2008</td>\n",
       "      <td>1</td>\n",
       "      <td>3</td>\n",
       "      <td>4</td>\n",
       "      <td>1829.0</td>\n",
       "      <td>1755</td>\n",
       "      <td>1959.0</td>\n",
       "      <td>1925</td>\n",
       "      <td>WN</td>\n",
       "      <td>3920</td>\n",
       "      <td>...</td>\n",
       "      <td>10.0</td>\n",
       "      <td>0</td>\n",
       "      <td>NaN</td>\n",
       "      <td>0</td>\n",
       "      <td>2.0</td>\n",
       "      <td>0.0</td>\n",
       "      <td>0.0</td>\n",
       "      <td>0.0</td>\n",
       "      <td>32.0</td>\n",
       "      <td>1.0</td>\n",
       "    </tr>\n",
       "  </tbody>\n",
       "</table>\n",
       "<p>5 rows × 30 columns</p>\n",
       "</div>"
      ],
      "text/plain": [
       "   Year  Month  DayofMonth  DayOfWeek  DepTime  CRSDepTime  ArrTime  \\\n",
       "0  2008      1           3          4   2003.0        1955   2211.0   \n",
       "1  2008      1           3          4    754.0         735   1002.0   \n",
       "2  2008      1           3          4    628.0         620    804.0   \n",
       "3  2008      1           3          4    926.0         930   1054.0   \n",
       "4  2008      1           3          4   1829.0        1755   1959.0   \n",
       "\n",
       "   CRSArrTime UniqueCarrier  FlightNum  ... TaxiOut  Cancelled  \\\n",
       "0        2225            WN        335  ...     8.0          0   \n",
       "1        1000            WN       3231  ...    10.0          0   \n",
       "2         750            WN        448  ...    17.0          0   \n",
       "3        1100            WN       1746  ...     7.0          0   \n",
       "4        1925            WN       3920  ...    10.0          0   \n",
       "\n",
       "   CancellationCode  Diverted  CarrierDelay  WeatherDelay NASDelay  \\\n",
       "0               NaN         0           NaN           NaN      NaN   \n",
       "1               NaN         0           NaN           NaN      NaN   \n",
       "2               NaN         0           NaN           NaN      NaN   \n",
       "3               NaN         0           NaN           NaN      NaN   \n",
       "4               NaN         0           2.0           0.0      0.0   \n",
       "\n",
       "  SecurityDelay  LateAircraftDelay  HoursDelay  \n",
       "0           NaN                NaN        -0.0  \n",
       "1           NaN                NaN         0.0  \n",
       "2           NaN                NaN         0.0  \n",
       "3           NaN                NaN        -0.0  \n",
       "4           0.0               32.0         1.0  \n",
       "\n",
       "[5 rows x 30 columns]"
      ]
     },
     "execution_count": 7,
     "metadata": {},
     "output_type": "execute_result"
    }
   ],
   "source": [
    "df.head()"
   ]
  },
  {
   "cell_type": "code",
   "execution_count": null,
   "id": "f16bf455",
   "metadata": {},
   "outputs": [],
   "source": [
    "#Con esto estaría eliminando las 3 primeras columnas de la base de datos\n",
    "#La función drop sirve también para filas\n",
    "#Como se muestra en los dos ejemplos más abajo:\n",
    "df.drop([\"Diverted\", \"Cancelled\", \"Yeap\"], axis=1)\n",
    "df.drop(0)\n",
    "df.drop(range(0,10000)) #Con esto eliminaria desde el 0 a la fila 9.999\n",
    "\n",
    "#Sin embargo, para guardar ese nuevo dataset, es correcto guardarlos dentro de la misma variable \n",
    "#En donde está inicializada el dataframe o con inplace=True, quedando algo así:\n",
    "# df = df.drop(xxxxxxx)\n",
    "# df.drop([\"Diverted\", \"Cancelled\", \"Yeap\"], axis=1, inplace = True)"
   ]
  },
  {
   "cell_type": "code",
   "execution_count": 8,
   "id": "eba5b241",
   "metadata": {},
   "outputs": [],
   "source": [
    "#A continuación lo que hacemos es extraer dos dataframes nuevos, uno con Origen en LAS y otro\n",
    "#Con origen en HOU\n",
    "\n",
    "dfLAS = df[df.Origin == \"LAS\"]\n",
    "dfHOU = df[df.Origin == \"HOU\"]"
   ]
  },
  {
   "cell_type": "code",
   "execution_count": 9,
   "id": "1e18bc60",
   "metadata": {},
   "outputs": [],
   "source": [
    "#Y de esta manera podemos crear un nuevo dataframe uniendo el df de LAS con la funcion append a dsHOU.\n",
    "newdf = dfLAS.append(dfHOU)"
   ]
  },
  {
   "cell_type": "code",
   "execution_count": 10,
   "id": "cb093e85",
   "metadata": {},
   "outputs": [
    {
     "data": {
      "text/plain": [
       "79         LAS\n",
       "80         LAS\n",
       "81         LAS\n",
       "82         LAS\n",
       "83         LAS\n",
       "          ... \n",
       "7003419    HOU\n",
       "7004690    HOU\n",
       "7005947    HOU\n",
       "7007233    HOU\n",
       "7008545    HOU\n",
       "Name: Origin, Length: 228809, dtype: object"
      ]
     },
     "execution_count": 10,
     "metadata": {},
     "output_type": "execute_result"
    }
   ],
   "source": [
    "#Y si mostramos los datos de Origin de este nuevo dataframe podemos encontrar ambos origenes, \n",
    "#Quedando los de LAS al principio y HOU al final que son los que se le aplicó la \n",
    "#función de append\n",
    "newdf.Origin"
   ]
  },
  {
   "cell_type": "code",
   "execution_count": 14,
   "id": "3c5c90c8",
   "metadata": {},
   "outputs": [
    {
     "name": "stderr",
     "output_type": "stream",
     "text": [
      "<ipython-input-14-2a1b0a64ead2>:7: FutureWarning: Indexing with multiple keys (implicitly converted to a tuple of keys) will be deprecated, use a list instead.\n",
      "  df.groupby(by = \"DayOfWeek\")[\"ArrDelay\", \"DepDelay\"].mean()\n"
     ]
    },
    {
     "data": {
      "text/html": [
       "<div>\n",
       "<style scoped>\n",
       "    .dataframe tbody tr th:only-of-type {\n",
       "        vertical-align: middle;\n",
       "    }\n",
       "\n",
       "    .dataframe tbody tr th {\n",
       "        vertical-align: top;\n",
       "    }\n",
       "\n",
       "    .dataframe thead th {\n",
       "        text-align: right;\n",
       "    }\n",
       "</style>\n",
       "<table border=\"1\" class=\"dataframe\">\n",
       "  <thead>\n",
       "    <tr style=\"text-align: right;\">\n",
       "      <th></th>\n",
       "      <th>ArrDelay</th>\n",
       "      <th>DepDelay</th>\n",
       "    </tr>\n",
       "    <tr>\n",
       "      <th>DayOfWeek</th>\n",
       "      <th></th>\n",
       "      <th></th>\n",
       "    </tr>\n",
       "  </thead>\n",
       "  <tbody>\n",
       "    <tr>\n",
       "      <th>1</th>\n",
       "      <td>8.210850</td>\n",
       "      <td>10.269990</td>\n",
       "    </tr>\n",
       "    <tr>\n",
       "      <th>2</th>\n",
       "      <td>7.481208</td>\n",
       "      <td>8.976897</td>\n",
       "    </tr>\n",
       "    <tr>\n",
       "      <th>3</th>\n",
       "      <td>6.522017</td>\n",
       "      <td>8.289761</td>\n",
       "    </tr>\n",
       "    <tr>\n",
       "      <th>4</th>\n",
       "      <td>8.411599</td>\n",
       "      <td>9.772897</td>\n",
       "    </tr>\n",
       "    <tr>\n",
       "      <th>5</th>\n",
       "      <td>10.953440</td>\n",
       "      <td>12.158036</td>\n",
       "    </tr>\n",
       "    <tr>\n",
       "      <th>6</th>\n",
       "      <td>5.789666</td>\n",
       "      <td>8.645681</td>\n",
       "    </tr>\n",
       "    <tr>\n",
       "      <th>7</th>\n",
       "      <td>9.495886</td>\n",
       "      <td>11.568973</td>\n",
       "    </tr>\n",
       "  </tbody>\n",
       "</table>\n",
       "</div>"
      ],
      "text/plain": [
       "            ArrDelay   DepDelay\n",
       "DayOfWeek                      \n",
       "1           8.210850  10.269990\n",
       "2           7.481208   8.976897\n",
       "3           6.522017   8.289761\n",
       "4           8.411599   9.772897\n",
       "5          10.953440  12.158036\n",
       "6           5.789666   8.645681\n",
       "7           9.495886  11.568973"
      ]
     },
     "execution_count": 14,
     "metadata": {},
     "output_type": "execute_result"
    }
   ],
   "source": [
    "#El retraso máximo de cada dia de la semana con la función max y groupby\n",
    "#df.groupby(by = \"DayOfWeek\")[\"ArrDelay\"].max()\n",
    "#df.groupby(by = \"DayOfWeek\")[\"ArrDelay\"].min()\n",
    "#df.groupby(by = \"DayOfWeek\")[\"ArrDelay\"].count() #Numero de casos\n",
    "#df.groupby(by = \"DayOfWeek\")[\"ArrDelay\"].describe()\n",
    "# Casos - Media - Desviación Estándar, Minimo, 1er cuartil, Mediana, 3 Cuartil y mAXIMO\n",
    "df.groupby(by = \"DayOfWeek\")[\"ArrDelay\", \"DepDelay\"].mean()"
   ]
  },
  {
   "cell_type": "code",
   "execution_count": 15,
   "id": "c2af7f56",
   "metadata": {},
   "outputs": [
    {
     "data": {
      "text/plain": [
       "DayOfWeek\n",
       "1    2102.0\n",
       "2    2040.0\n",
       "3    1597.0\n",
       "4    2582.0\n",
       "5    1793.0\n",
       "6    1616.0\n",
       "7    2553.0\n",
       "Name: ArrDelay, dtype: float64"
      ]
     },
     "execution_count": 15,
     "metadata": {},
     "output_type": "execute_result"
    }
   ],
   "source": [
    "#Rango de demora por día de semana, maximo de demora - el minimo de demora\n",
    "df.groupby(by = \"DayOfWeek\")[\"ArrDelay\"].max() - df.groupby(by = \"DayOfWeek\")[\"ArrDelay\"].min()"
   ]
  },
  {
   "cell_type": "code",
   "execution_count": 16,
   "id": "4ba447bd",
   "metadata": {},
   "outputs": [],
   "source": [
    "dfATLHOU = df[df.Origin.isin([\"ATL\", \"HOU\"])]"
   ]
  },
  {
   "cell_type": "code",
   "execution_count": 18,
   "id": "70f8b25d",
   "metadata": {},
   "outputs": [
    {
     "data": {
      "text/plain": [
       "DayOfWeek  Origin\n",
       "1          ATL        9.123436\n",
       "           HOU        6.356856\n",
       "2          ATL        8.933587\n",
       "           HOU        9.348112\n",
       "3          ATL        8.809146\n",
       "           HOU        9.073109\n",
       "4          ATL       10.186501\n",
       "           HOU       12.994016\n",
       "5          ATL       14.797440\n",
       "           HOU       11.036545\n",
       "6          ATL        9.511662\n",
       "           HOU        4.283933\n",
       "7          ATL       13.798627\n",
       "           HOU        7.045287\n",
       "Name: ArrDelay, dtype: float64"
      ]
     },
     "execution_count": 18,
     "metadata": {},
     "output_type": "execute_result"
    }
   ],
   "source": [
    "dfATLHOU.groupby(by = [\"DayOfWeek\", \"Origin\"])[\"ArrDelay\"].mean()"
   ]
  },
  {
   "cell_type": "code",
   "execution_count": 22,
   "id": "28b7fd5b",
   "metadata": {},
   "outputs": [
    {
     "data": {
      "text/plain": [
       "Origin  DayOfWeek\n",
       "ATL     1             9.123436\n",
       "        2             8.933587\n",
       "        3             8.809146\n",
       "        4            10.186501\n",
       "        5            14.797440\n",
       "        6             9.511662\n",
       "        7            13.798627\n",
       "HOU     1             6.356856\n",
       "        2             9.348112\n",
       "        3             9.073109\n",
       "        4            12.994016\n",
       "        5            11.036545\n",
       "        6             4.283933\n",
       "        7             7.045287\n",
       "Name: ArrDelay, dtype: float64"
      ]
     },
     "execution_count": 22,
     "metadata": {},
     "output_type": "execute_result"
    }
   ],
   "source": [
    "dfATLHOU.groupby(by = [\"Origin\", \"DayOfWeek\"])[\"ArrDelay\"].mean()"
   ]
  },
  {
   "cell_type": "code",
   "execution_count": 23,
   "id": "8eb1d8e3",
   "metadata": {},
   "outputs": [],
   "source": [
    "myGroupBy = dfATLHOU.groupby(by = [\"Origin\", \"DayOfWeek\"])[\"ArrDelay\"]"
   ]
  },
  {
   "cell_type": "code",
   "execution_count": 24,
   "id": "d41a94b4",
   "metadata": {},
   "outputs": [
    {
     "data": {
      "text/plain": [
       "Origin  DayOfWeek\n",
       "ATL     1             407.0\n",
       "        2             848.0\n",
       "        3             876.0\n",
       "        4             571.0\n",
       "        5             699.0\n",
       "        6             483.0\n",
       "        7             612.0\n",
       "HOU     1             383.0\n",
       "        2             546.0\n",
       "        3             639.0\n",
       "        4            1082.0\n",
       "        5             560.0\n",
       "        6             917.0\n",
       "        7             685.0\n",
       "Name: ArrDelay, dtype: float64"
      ]
     },
     "execution_count": 24,
     "metadata": {},
     "output_type": "execute_result"
    }
   ],
   "source": [
    "myGroupBy.max()"
   ]
  }
 ],
 "metadata": {
  "kernelspec": {
   "display_name": "Python 3",
   "language": "python",
   "name": "python3"
  },
  "language_info": {
   "codemirror_mode": {
    "name": "ipython",
    "version": 3
   },
   "file_extension": ".py",
   "mimetype": "text/x-python",
   "name": "python",
   "nbconvert_exporter": "python",
   "pygments_lexer": "ipython3",
   "version": "3.8.8"
  }
 },
 "nbformat": 4,
 "nbformat_minor": 5
}
